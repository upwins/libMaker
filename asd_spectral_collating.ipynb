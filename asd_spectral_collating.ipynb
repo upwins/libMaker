{
 "cells": [
  {
   "cell_type": "code",
   "execution_count": 10,
   "metadata": {},
   "outputs": [],
   "source": [
    "import os\n",
    "import sys\n",
    "import time\n",
    "import struct\n",
    "import importlib\n",
    "import pandas as pd\n",
    "import numpy as np\n",
    "import matplotlib.pyplot as plt\n",
    "import matplotlib\n",
    "\n",
    "import libMaker as lm\n",
    "\n",
    "matplotlib.rcParams['figure.figsize'] = (12,6)\n",
    "matplotlib.rc('axes', labelsize=14)\n",
    "matplotlib.rc('xtick', labelsize=12)\n",
    "matplotlib.rc('ytick', labelsize=12)\n",
    "pd.set_option('display.max_columns', None)"
   ]
  },
  {
   "cell_type": "code",
   "execution_count": 11,
   "metadata": {},
   "outputs": [],
   "source": [
    "importlib.reload(lm);"
   ]
  },
  {
   "cell_type": "markdown",
   "metadata": {},
   "source": [
    "## Read and inspect a single spectrum"
   ]
  },
  {
   "cell_type": "code",
   "execution_count": 12,
   "metadata": {},
   "outputs": [
    {
     "name": "stdout",
     "output_type": "stream",
     "text": [
      "35020 35016 4 1 0\n",
      "[]\n",
      "\n",
      "name:\t\tvegetation_beachgrass_dormant_leaf_00001,\n",
      "measure_type:\tpct_reflect\n",
      "measurements:\twave  |measurement\n",
      "\t\t------|-----------\n",
      "\t\t 350.0|0.255\n",
      "\t\t   ...|...\n",
      "\t\t2500.0|0.285\n",
      "metadata:\tfile:c:\\Users\\wb8by\\Documents\\GitHub\\WINS-ASD-spectra\\asd\\vegetation_beachgrass_dormant_leaf_00001.asd\n",
      "\t\tinstrument_type:ASD\n",
      "\t\tintegration_time:8\n",
      "\t\tmeasurement_type:REF_TYPE\n",
      "\t\tgps_time_tgt:134217728\n",
      "\t\tgps_time_ref:None\n",
      "\t\twavelength_range:(350.0, 2500.0)\n",
      "\t\tDateTimeUniqueIdentifier:20230227_150023\n",
      "\t\tdatetime_readable:2023-02-27 15:00:23\n",
      "\t\tinstrument_num:18820\n",
      "\t\tcomment:b'leaf/blade, March 27 2023, dormant, Morven'\n",
      "\t\tprincipal_part_code:None\n",
      "\t\tage_code:None\n",
      "\t\thealth_code:None\n",
      "\t\tgenus:None\n",
      "\t\tspecies:None\n",
      "\t\tcommon_name:None\n",
      "\n"
     ]
    }
   ],
   "source": [
    "fname1 = 'mineral_salt_00000.asd'\n",
    "fname2 = 'asd\\\\vegetation_beachgrass_dormant_leaf_00001.asd'\n",
    "s = lm.read(fname2)\n",
    "print(s)"
   ]
  },
  {
   "cell_type": "code",
   "execution_count": 13,
   "metadata": {},
   "outputs": [
    {
     "name": "stdout",
     "output_type": "stream",
     "text": [
      "Ammophila_breviligulata_SA_1G_H_20230227_150023\n"
     ]
    }
   ],
   "source": [
    "print('Ammophila_breviligulata_SA_1G_H_20230227_150023')"
   ]
  }
 ],
 "metadata": {
  "kernelspec": {
   "display_name": "Python 3",
   "language": "python",
   "name": "python3"
  },
  "language_info": {
   "codemirror_mode": {
    "name": "ipython",
    "version": 3
   },
   "file_extension": ".py",
   "mimetype": "text/x-python",
   "name": "python",
   "nbconvert_exporter": "python",
   "pygments_lexer": "ipython3",
   "version": "3.11.3"
  }
 },
 "nbformat": 4,
 "nbformat_minor": 2
}
