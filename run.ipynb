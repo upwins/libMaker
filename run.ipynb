{
 "cells": [
  {
   "cell_type": "code",
   "execution_count": 1,
   "metadata": {},
   "outputs": [],
   "source": [
    "import os\n",
    "import sys\n",
    "import time\n",
    "import struct\n",
    "import importlib\n",
    "import numpy as np\n",
    "import pandas as pd\n",
    "import matplotlib.pyplot as plt\n",
    "import matplotlib\n",
    "\n",
    "import libMaker as lm"
   ]
  },
  {
   "cell_type": "code",
   "execution_count": 3,
   "metadata": {},
   "outputs": [
    {
     "data": {
      "text/plain": [
       "<module 'libMaker' from '/workspaces/libMaker/libMaker.py'>"
      ]
     },
     "execution_count": 3,
     "metadata": {},
     "output_type": "execute_result"
    }
   ],
   "source": [
    "importlib.reload(lm)"
   ]
  },
  {
   "cell_type": "code",
   "execution_count": 2,
   "metadata": {},
   "outputs": [
    {
     "name": "stdout",
     "output_type": "stream",
     "text": [
      "0 filenames replaced.\n"
     ]
    }
   ],
   "source": [
    "lm.replace_str_in_filenames(directory='data/asd/Allied_01_14_2025', old_str='FFG', new_str='FLG')"
   ]
  },
  {
   "cell_type": "code",
   "execution_count": 3,
   "metadata": {},
   "outputs": [],
   "source": [
    "import os\n",
    "\n",
    "def find_files_with_all_strings(root_dir, string_list):\n",
    "    matching_files = []\n",
    "    for root, _, files in os.walk(root_dir):\n",
    "        for filename in files:\n",
    "            if all(string in filename for string in string_list):\n",
    "                matching_files.append(os.path.join(root, filename))\n",
    "    return matching_files\n",
    "\n",
    "# Example usage:\n",
    "# root_directory = \"/path/to/your/directory\"  # Replace with the actual path\n",
    "# search_strings = [\"string1\", \"string2\", \"string3\"]\n",
    "# result = find_files_with_all_strings(root_directory, search_strings)\n",
    "# if result:\n",
    "#     print(\"Files found:\")\n",
    "#     for file_path in result:\n",
    "#         print(file_path)\n",
    "# else:\n",
    "#     print(\"No files found matching all strings.\")"
   ]
  },
  {
   "cell_type": "code",
   "execution_count": 18,
   "metadata": {},
   "outputs": [
    {
     "name": "stdout",
     "output_type": "stream",
     "text": [
      "Files found (31):\n",
      "data/asd/Allied_04_28_2025/More_pen_LG_J_H_N_00003.asd\n",
      "data/asd/Allied_04_28_2025/More_pen_LG_J_H_N_00001.asd\n",
      "data/asd/Allied_04_28_2025/More_pen_L_J_H_N_00006.asd\n",
      "data/asd/Allied_04_28_2025/More_pen_L_J_H_N_00008.asd\n",
      "data/asd/Allied_04_28_2025/More_pen_SP_J_H_N_00011.asd\n",
      "data/asd/Allied_04_28_2025/More_pen_LG_J_H_N_00005.asd\n",
      "data/asd/Allied_04_28_2025/More_pen_LG_J_H_N_00000.asd\n",
      "data/asd/Allied_04_28_2025/More_pen_SP_J_H_N_00013.asd\n",
      "data/asd/Allied_04_28_2025/More_pen_L_J_H_N_00002.asd\n",
      "data/asd/Allied_04_28_2025/More_pen_L_J_H_N_00004.asd\n",
      "data/asd/Allied_04_28_2025/More_pen_SP_J_H_N_00007.asd\n",
      "data/asd/Allied_04_28_2025/More_pen_SP_J_H_N_00008.asd\n",
      "data/asd/Allied_04_28_2025/More_pen_SP_J_H_N_00005.asd\n",
      "data/asd/Allied_04_28_2025/More_pen_SP_J_H_N_00001.asd\n",
      "data/asd/Allied_04_28_2025/More_pen_L_J_H_N_00007.asd\n",
      "data/asd/Allied_04_28_2025/More_pen_SP_J_H_N_00009.asd\n",
      "data/asd/Allied_04_28_2025/More_pen_SP_J_H_N_00000.asd\n",
      "data/asd/Allied_04_28_2025/More_pen_SP_J_H_N_00003.asd\n",
      "data/asd/Allied_04_28_2025/More_pen_SP_J_H_N_00004.asd\n",
      "data/asd/Allied_04_28_2025/More_pen_LG_J_H_N_00002.asd\n",
      "data/asd/Allied_04_28_2025/More_pen_L_J_H_N_00001.asd\n",
      "data/asd/Allied_04_28_2025/More_pen_LG_J_H_N_00004.asd\n",
      "data/asd/Allied_04_28_2025/More_pen_SP_J_H_N_00014.asd\n",
      "data/asd/Allied_04_28_2025/More_pen_SP_J_H_N_00006.asd\n",
      "data/asd/Allied_04_28_2025/More_pen_L_J_H_N_00000.asd\n",
      "data/asd/Allied_04_28_2025/More_pen_SP_J_H_N_00012.asd\n",
      "data/asd/Allied_04_28_2025/More_pen_SP_J_H_N_00010.asd\n",
      "data/asd/Allied_04_28_2025/More_pen_L_J_H_N_00003.asd\n",
      "data/asd/Allied_04_28_2025/More_pen_L_J_H_N_00005.asd\n",
      "data/asd/Allied_04_28_2025/More_pen_SP_J_H_N_00002.asd\n",
      "data/asd/Allied_04_28_2025/More_pen_L_J_H_N_00009.asd\n",
      "Number of filenames replaced: 0\n"
     ]
    }
   ],
   "source": [
    "result = find_files_with_all_strings(\"data/asd/Allied_04_28_2025\", [\"More_pen\", \"J\"])\n",
    "\n",
    "replace = False\n",
    "\n",
    "if result:\n",
    "    print(f\"Files found ({len(result)}):\")\n",
    "    count = 0\n",
    "    for filepath in result:\n",
    "        print(filepath)\n",
    "\n",
    "        if replace:\n",
    "            newpath = filepath.replace(\"1G\", \"J\")\n",
    "            if newpath != filepath:\n",
    "                os.rename(filepath, newpath)\n",
    "                print(f\"New path: {newpath}\")\n",
    "                count = count + 1\n",
    "    print(f\"Number of filenames replaced: {count}\")\n",
    "else:\n",
    "    print(\"No files found matching all strings.\")"
   ]
  },
  {
   "cell_type": "code",
   "execution_count": 3,
   "metadata": {},
   "outputs": [
    {
     "name": "stdout",
     "output_type": "stream",
     "text": [
      "Searching data/asd/ and subdirectories for ASD files.\n",
      "Number of ASD files found: 5958\n",
      "Filenames saved in data/filenames_asd.csv\n"
     ]
    }
   ],
   "source": [
    "lm.search_for_ASD_files(source='data/asd/', destination='data/')"
   ]
  },
  {
   "cell_type": "code",
   "execution_count": null,
   "metadata": {},
   "outputs": [],
   "source": [
    "fname_csv = 'data/filenames_asd.csv'\n",
    "df = pd.read_csv(fname_csv, index_col = False)\n",
    "filepath = df.iloc[521]['ASD fname']\n",
    "#print(filepath)"
   ]
  },
  {
   "cell_type": "code",
   "execution_count": null,
   "metadata": {},
   "outputs": [],
   "source": [
    "s = lm.read(filepath)\n",
    "\n",
    "fname_new = 'UPWINS'+\\\n",
    "                    '_'+\\\n",
    "                    s.metadata['genus']+\\\n",
    "                    '_'+\\\n",
    "                    s.metadata['species']+\\\n",
    "                    '_'+\\\n",
    "                    s.metadata['principal_part_code']+\\\n",
    "                    '_'+\\\n",
    "                    s.metadata['age_code']+\\\n",
    "                    '_'+\\\n",
    "                    s.metadata['health_code']+\\\n",
    "                    '_'+\\\n",
    "                    s.metadata['lifecycle_code']+\\\n",
    "                    '_'+\\\n",
    "                    s.metadata['DateTimeUniqueIdentifier']+\\\n",
    "                    '.asd'\n",
    "\n",
    "#print(fname_new)\n",
    "print(filepath)\n",
    "\n",
    "plt.plot(s.measurement.index, s.measurement, label=f'{filepath}', lw=1)"
   ]
  },
  {
   "cell_type": "code",
   "execution_count": null,
   "metadata": {},
   "outputs": [],
   "source": [
    "s = lm.read(filepath, True)\n",
    "plt.plot(s.measurement.index, s.measurement, label=f'{filepath}', lw=1)"
   ]
  },
  {
   "cell_type": "code",
   "execution_count": 4,
   "metadata": {},
   "outputs": [
    {
     "name": "stdout",
     "output_type": "stream",
     "text": [
      "Adding UPWINS convention filenames and metadata to data/filenames_asd.csv\n",
      "Number of rows before dropping non-target_vegetation: 5958\n",
      "Number of rows dropped: 216\n",
      "Number of rows before dropping duplicates: 5742\n",
      "Writing to data/UPWINS_ASD_database.csv complete. There were 5734 unique files.\n",
      "Length of data list: 5734\n",
      "Pinged your deployment. You successfully connected to MongoDB!\n",
      "Metadata doc count:  5734\n",
      "Data doc count:  5734\n",
      "Spectral Library created.\n"
     ]
    }
   ],
   "source": [
    "lm.build_UPWINS_ASD_database('data/', DeployToMongoDB=True)"
   ]
  }
 ],
 "metadata": {
  "kernelspec": {
   "display_name": "Python 3",
   "language": "python",
   "name": "python3"
  },
  "language_info": {
   "codemirror_mode": {
    "name": "ipython",
    "version": 3
   },
   "file_extension": ".py",
   "mimetype": "text/x-python",
   "name": "python",
   "nbconvert_exporter": "python",
   "pygments_lexer": "ipython3",
   "version": "3.12.8"
  }
 },
 "nbformat": 4,
 "nbformat_minor": 2
}
