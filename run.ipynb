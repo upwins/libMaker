{
 "cells": [
  {
   "cell_type": "code",
   "execution_count": 1,
   "metadata": {},
   "outputs": [
    {
     "name": "stderr",
     "output_type": "stream",
     "text": [
      "/workspaces/libMaker/libMaker.py:648: SyntaxWarning: invalid escape sequence '\\S'\n",
      "  '''\n"
     ]
    }
   ],
   "source": [
    "import os\n",
    "import sys\n",
    "import time\n",
    "import struct\n",
    "import importlib\n",
    "import numpy as np\n",
    "import pandas as pd\n",
    "import matplotlib.pyplot as plt\n",
    "import matplotlib\n",
    "\n",
    "import libMaker as lm"
   ]
  },
  {
   "cell_type": "code",
   "execution_count": 2,
   "metadata": {},
   "outputs": [
    {
     "data": {
      "text/plain": [
       "<module 'libMaker' from '/workspaces/libMaker/libMaker.py'>"
      ]
     },
     "execution_count": 2,
     "metadata": {},
     "output_type": "execute_result"
    }
   ],
   "source": [
    "importlib.reload(lm)"
   ]
  },
  {
   "cell_type": "code",
   "execution_count": 3,
   "metadata": {},
   "outputs": [
    {
     "name": "stdout",
     "output_type": "stream",
     "text": [
      "0 filenames replaced.\n"
     ]
    }
   ],
   "source": [
    "lm.replace_str_in_filenames(directory='data/asd/Allied_01_14_2025', old_str='FFG', new_str='FLG')"
   ]
  },
  {
   "cell_type": "code",
   "execution_count": 4,
   "metadata": {},
   "outputs": [
    {
     "name": "stdout",
     "output_type": "stream",
     "text": [
      "Searching data/asd/ and subdirectories for ASD files.\n",
      "Number of ASD files found: 4310\n",
      "Filenames saved in data/filenames_asd.csv\n"
     ]
    }
   ],
   "source": [
    "lm.search_for_ASD_files(source='data/asd/', destination='data/')"
   ]
  },
  {
   "cell_type": "code",
   "execution_count": null,
   "metadata": {},
   "outputs": [],
   "source": [
    "fname_csv = 'data/filenames_asd.csv'\n",
    "df = pd.read_csv(fname_csv, index_col = False)\n",
    "filepath = df.iloc[521]['ASD fname']\n",
    "#print(filepath)"
   ]
  },
  {
   "cell_type": "code",
   "execution_count": null,
   "metadata": {},
   "outputs": [],
   "source": [
    "s = lm.read(filepath)\n",
    "\n",
    "fname_new = 'UPWINS'+\\\n",
    "                    '_'+\\\n",
    "                    s.metadata['genus']+\\\n",
    "                    '_'+\\\n",
    "                    s.metadata['species']+\\\n",
    "                    '_'+\\\n",
    "                    s.metadata['principal_part_code']+\\\n",
    "                    '_'+\\\n",
    "                    s.metadata['age_code']+\\\n",
    "                    '_'+\\\n",
    "                    s.metadata['health_code']+\\\n",
    "                    '_'+\\\n",
    "                    s.metadata['lifecycle_code']+\\\n",
    "                    '_'+\\\n",
    "                    s.metadata['DateTimeUniqueIdentifier']+\\\n",
    "                    '.asd'\n",
    "\n",
    "#print(fname_new)\n",
    "print(filepath)\n",
    "\n",
    "plt.plot(s.measurement.index, s.measurement, label=f'{filepath}', lw=1)"
   ]
  },
  {
   "cell_type": "code",
   "execution_count": null,
   "metadata": {},
   "outputs": [],
   "source": [
    "s = lm.read(filepath, True)\n",
    "plt.plot(s.measurement.index, s.measurement, label=f'{filepath}', lw=1)"
   ]
  },
  {
   "cell_type": "code",
   "execution_count": 5,
   "metadata": {},
   "outputs": [
    {
     "name": "stdout",
     "output_type": "stream",
     "text": [
      "Adding UPWINS convention filenames and metadata to data/filenames_asd.csv\n",
      "Number of rows before dropping non-target_vegetation: 4310\n",
      "Number of rows dropped: 216\n",
      "Number of rows before dropping duplicates: 4094\n",
      "Writing to data/UPWINS_ASD_database.csv complete. There were 4086 unique files.\n",
      "Length of data list: 4086\n",
      "Pinged your deployment. You successfully connected to MongoDB!\n",
      "Metadata doc count:  4086\n",
      "Data doc count:  4086\n",
      "Spectral Library created.\n"
     ]
    }
   ],
   "source": [
    "lm.build_UPWINS_ASD_database('data/', DeployToMongoDB=True)"
   ]
  }
 ],
 "metadata": {
  "kernelspec": {
   "display_name": "Python 3",
   "language": "python",
   "name": "python3"
  },
  "language_info": {
   "codemirror_mode": {
    "name": "ipython",
    "version": 3
   },
   "file_extension": ".py",
   "mimetype": "text/x-python",
   "name": "python",
   "nbconvert_exporter": "python",
   "pygments_lexer": "ipython3",
   "version": "3.12.8"
  }
 },
 "nbformat": 4,
 "nbformat_minor": 2
}
