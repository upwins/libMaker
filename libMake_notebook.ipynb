{
 "cells": [
  {
   "cell_type": "code",
   "execution_count": 1,
   "metadata": {},
   "outputs": [],
   "source": [
    "import os\n",
    "import sys\n",
    "import time\n",
    "import struct\n",
    "import importlib\n",
    "import numpy as np\n",
    "import pandas as pd\n",
    "import matplotlib.pyplot as plt\n",
    "import matplotlib\n",
    "\n",
    "import libMaker as lm\n",
    "\n",
    "matplotlib.rcParams['figure.figsize'] = (12,6)\n",
    "matplotlib.rc('axes', labelsize=14)\n",
    "matplotlib.rc('xtick', labelsize=12)\n",
    "matplotlib.rc('ytick', labelsize=12)\n",
    "pd.set_option('display.max_colwidth', 50)\n",
    "pd.set_option('display.max_columns', None)\n",
    "pd.set_option('display.max_rows', None)"
   ]
  },
  {
   "cell_type": "code",
   "execution_count": 2,
   "metadata": {},
   "outputs": [],
   "source": [
    "importlib.reload(lm);"
   ]
  },
  {
   "cell_type": "markdown",
   "metadata": {},
   "source": [
    "## Read, copy-rename each ASD file in the source folder"
   ]
  },
  {
   "cell_type": "code",
   "execution_count": 3,
   "metadata": {},
   "outputs": [],
   "source": [
    "# STEP 1: build csv listing all ASD files on this computer\n",
    "#lm.search_for_ASD_files()"
   ]
  },
  {
   "cell_type": "code",
   "execution_count": null,
   "metadata": {},
   "outputs": [],
   "source": [
    "# STEP 2: Read and parse files and metadata to build csv\n",
    "lm.build_ASD_filename_UPWINS_convention_info()"
   ]
  },
  {
   "cell_type": "code",
   "execution_count": null,
   "metadata": {},
   "outputs": [],
   "source": [
    "# STEP 3: Copy all relevant ASD files on this computer to the ASD_files folder\n",
    "# lm.copy_rename_ASD_files()"
   ]
  },
  {
   "cell_type": "code",
   "execution_count": null,
   "metadata": {},
   "outputs": [],
   "source": [
    "# Step 4: Build the master UPWINS ASD database\n",
    "lm.build_UPWINS_ASD_database()"
   ]
  },
  {
   "cell_type": "markdown",
   "metadata": {},
   "source": [
    "## View the Results"
   ]
  },
  {
   "cell_type": "code",
   "execution_count": null,
   "metadata": {},
   "outputs": [],
   "source": [
    "destination = 'C:\\\\ASD_files\\\\'\n",
    "fname_UPWINS_csv = destination+'filenames_UPWINS_asd.csv'\n",
    "df = pd.read_csv(fname_UPWINS_csv, index_col = False, keep_default_na=False)\n",
    "df = df.sort_values(['category', 'DateTimeUniqueIdentifier'], ascending=[False, True])\n",
    "df"
   ]
  },
  {
   "cell_type": "markdown",
   "metadata": {},
   "source": [
    "## Read and inspect a single spectrum"
   ]
  },
  {
   "cell_type": "code",
   "execution_count": null,
   "metadata": {},
   "outputs": [
    {
     "name": "stdout",
     "output_type": "stream",
     "text": [
      "\n",
      "name:\t\tvegetation_pasturegrass_100007,\n",
      "measure_type:\tpct_reflect\n",
      "measurements:\twave  |measurement\n",
      "\t\t------|-----------\n",
      "\t\t 350.0|0.140\n",
      "\t\t   ...|...\n",
      "\t\t2500.0|0.069\n",
      "metadata:\tfile:C:\\Users\\wb8by\\Documents\\Python\\Scripting Tools\\all_asd_files\\vegetation_pasturegrass_100007.asd\n",
      "\t\tinstrument_type:ASD\n",
      "\t\tintegration_time:8\n",
      "\t\tmeasurement_type:REF_TYPE\n",
      "\t\tgps_time_tgt:134217728\n",
      "\t\tgps_time_ref:None\n",
      "\t\twavelength_range:(350.0, 2500.0)\n",
      "\t\tDateTimeUniqueIdentifier:20230327_152756\n",
      "\t\tdatetime_readable:2023-03-27 15:27:56\n",
      "\t\tinstrument_num:18820\n",
      "\t\tcomment:March 27 2023, pasture grass, morven\n",
      "\t\tprincipal_part_code:NA\n",
      "\t\tprincipal_part_description:NA\n",
      "\t\tgrowth_stage_code:NA\n",
      "\t\tgrowth_stage_description:NA\n",
      "\t\thealth_code:NA\n",
      "\t\thealth_description:NA\n",
      "\t\tgenus:NA\n",
      "\t\tspecies:NA\n",
      "\t\tcommon_name:NA\n",
      "\t\tcategory:vegetation\n",
      "\t\tsub-category:pasturegrass\n",
      "\t\tlocation:Morven\n",
      "\t\tfilenum:00007\n",
      "\t\turl:NA\n",
      "\n"
     ]
    }
   ],
   "source": [
    "fname = 'asd\\\\vegetation_beachgrass_dormant_leaf_00001.asd'\n",
    "fname1 = 'C:\\\\Users\\\\wb8by\\\\Documents\\\\GitHub\\\\libMaker\\\\asd\\\\vegetation_beachgrass_dormant_leaf_00001.asd'\n",
    "fname2 = 'C:\\\\Users\\\\wb8by\\\\Box Sync\\\\Hyperspectral Readings\\\\Data and Code\\\\asd\\\\beachgra000.asd'\n",
    "fname3 = 'C:\\\\Users\\\\wb8by\\\\Documents\\\\Python\\\\Scripting Tools\\\\all_asd_files\\\\vegetation_pasturegrass_100007.asd'\n",
    "s = lm.read(fname3)\n",
    "print(s)"
   ]
  }
 ],
 "metadata": {
  "kernelspec": {
   "display_name": "Python 3",
   "language": "python",
   "name": "python3"
  },
  "language_info": {
   "codemirror_mode": {
    "name": "ipython",
    "version": 3
   },
   "file_extension": ".py",
   "mimetype": "text/x-python",
   "name": "python",
   "nbconvert_exporter": "python",
   "pygments_lexer": "ipython3",
   "version": "3.11.3"
  }
 },
 "nbformat": 4,
 "nbformat_minor": 2
}
