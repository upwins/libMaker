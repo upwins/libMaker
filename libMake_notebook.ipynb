{
 "cells": [
  {
   "cell_type": "code",
   "execution_count": 1,
   "metadata": {},
   "outputs": [],
   "source": [
    "import os\n",
    "import sys\n",
    "import time\n",
    "import struct\n",
    "import importlib\n",
    "import pandas as pd\n",
    "import numpy as np\n",
    "import matplotlib.pyplot as plt\n",
    "import matplotlib\n",
    "\n",
    "import libMaker as lm\n",
    "\n",
    "matplotlib.rcParams['figure.figsize'] = (12,6)\n",
    "matplotlib.rc('axes', labelsize=14)\n",
    "matplotlib.rc('xtick', labelsize=12)\n",
    "matplotlib.rc('ytick', labelsize=12)\n",
    "pd.set_option('display.max_columns', None)"
   ]
  },
  {
   "cell_type": "code",
   "execution_count": 2,
   "metadata": {},
   "outputs": [],
   "source": [
    "importlib.reload(lm);"
   ]
  },
  {
   "cell_type": "markdown",
   "metadata": {},
   "source": [
    "## Read and inspect a single spectrum"
   ]
  },
  {
   "cell_type": "code",
   "execution_count": 3,
   "metadata": {},
   "outputs": [
    {
     "name": "stdout",
     "output_type": "stream",
     "text": [
      "35020 35016 4 1 0\n",
      "[]\n"
     ]
    },
    {
     "ename": "NameError",
     "evalue": "name 'plant_codes_dict' is not defined",
     "output_type": "error",
     "traceback": [
      "\u001b[1;31m---------------------------------------------------------------------------\u001b[0m",
      "\u001b[1;31mNameError\u001b[0m                                 Traceback (most recent call last)",
      "Cell \u001b[1;32mIn[3], line 2\u001b[0m\n\u001b[0;32m      1\u001b[0m fname \u001b[38;5;241m=\u001b[39m \u001b[38;5;124m'\u001b[39m\u001b[38;5;124masd\u001b[39m\u001b[38;5;130;01m\\\\\u001b[39;00m\u001b[38;5;124mvegetation_beachgrass_dormant_leaf_00001.asd\u001b[39m\u001b[38;5;124m'\u001b[39m\n\u001b[1;32m----> 2\u001b[0m s \u001b[38;5;241m=\u001b[39m \u001b[43mlm\u001b[49m\u001b[38;5;241;43m.\u001b[39;49m\u001b[43mread\u001b[49m\u001b[43m(\u001b[49m\u001b[43mfname\u001b[49m\u001b[43m)\u001b[49m\n\u001b[0;32m      3\u001b[0m \u001b[38;5;28mprint\u001b[39m(s)\n",
      "File \u001b[1;32mc:\\Users\\wb8by\\Documents\\GitHub\\libMaker\\libMaker.py:67\u001b[0m, in \u001b[0;36mread\u001b[1;34m(filepath)\u001b[0m\n\u001b[0;32m     63\u001b[0m s\u001b[38;5;241m.\u001b[39mmetadata[\u001b[38;5;124m'\u001b[39m\u001b[38;5;124murl\u001b[39m\u001b[38;5;124m'\u001b[39m] \u001b[38;5;241m=\u001b[39m \u001b[38;5;124m'\u001b[39m\u001b[38;5;124mUnknown\u001b[39m\u001b[38;5;124m'\u001b[39m    \n\u001b[0;32m     65\u001b[0m \u001b[38;5;66;03m# checking for specific target species\u001b[39;00m\n\u001b[0;32m     66\u001b[0m \u001b[38;5;66;03m# check if the filename begins with a target species Genus_species code (ignore case)\u001b[39;00m\n\u001b[1;32m---> 67\u001b[0m \u001b[38;5;28;01mfor\u001b[39;00m key \u001b[38;5;129;01min\u001b[39;00m \u001b[43mplant_codes_dict\u001b[49m\u001b[38;5;241m.\u001b[39mkeys():\n\u001b[0;32m     68\u001b[0m     \u001b[38;5;28;01mif\u001b[39;00m fname[:\u001b[38;5;241m8\u001b[39m]\u001b[38;5;241m.\u001b[39mlower()\u001b[38;5;241m==\u001b[39mkey\u001b[38;5;241m.\u001b[39mlower():\n\u001b[0;32m     69\u001b[0m         s\u001b[38;5;241m.\u001b[39mmetadata[\u001b[38;5;124m'\u001b[39m\u001b[38;5;124mgenus\u001b[39m\u001b[38;5;124m'\u001b[39m], s\u001b[38;5;241m.\u001b[39mmetadata[\u001b[38;5;124m'\u001b[39m\u001b[38;5;124mspecies\u001b[39m\u001b[38;5;124m'\u001b[39m], s\u001b[38;5;241m.\u001b[39mmetadata[\u001b[38;5;124m'\u001b[39m\u001b[38;5;124mcommon_name\u001b[39m\u001b[38;5;124m'\u001b[39m], s\u001b[38;5;241m.\u001b[39mmetadata[\u001b[38;5;124m'\u001b[39m\u001b[38;5;124mvegetation_type\u001b[39m\u001b[38;5;124m'\u001b[39m], s\u001b[38;5;241m.\u001b[39mmetadata[\u001b[38;5;124m'\u001b[39m\u001b[38;5;124murl\u001b[39m\u001b[38;5;124m'\u001b[39m] \u001b[38;5;241m=\u001b[39m plant_codes_dict[key]\n",
      "\u001b[1;31mNameError\u001b[0m: name 'plant_codes_dict' is not defined"
     ]
    }
   ],
   "source": [
    "fname = 'asd\\\\vegetation_beachgrass_dormant_leaf_00001.asd'\n",
    "s = lm.read(fname)\n",
    "print(s)"
   ]
  }
 ],
 "metadata": {
  "kernelspec": {
   "display_name": "Python 3",
   "language": "python",
   "name": "python3"
  },
  "language_info": {
   "codemirror_mode": {
    "name": "ipython",
    "version": 3
   },
   "file_extension": ".py",
   "mimetype": "text/x-python",
   "name": "python",
   "nbconvert_exporter": "python",
   "pygments_lexer": "ipython3",
   "version": "3.11.3"
  }
 },
 "nbformat": 4,
 "nbformat_minor": 2
}
