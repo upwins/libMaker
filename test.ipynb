{
 "cells": [
  {
   "cell_type": "code",
   "execution_count": 30,
   "metadata": {},
   "outputs": [],
   "source": [
    "import os\n",
    "import sys\n",
    "import time\n",
    "import struct\n",
    "import importlib\n",
    "import numpy as np\n",
    "import pandas as pd\n",
    "import matplotlib.pyplot as plt\n",
    "import matplotlib\n",
    "\n",
    "import libMaker as lm"
   ]
  },
  {
   "cell_type": "code",
   "execution_count": 46,
   "metadata": {},
   "outputs": [
    {
     "data": {
      "text/plain": [
       "<module 'libMaker' from '/workspaces/libMaker/libMaker.py'>"
      ]
     },
     "execution_count": 46,
     "metadata": {},
     "output_type": "execute_result"
    }
   ],
   "source": [
    "importlib.reload(lm)"
   ]
  },
  {
   "cell_type": "code",
   "execution_count": 28,
   "metadata": {},
   "outputs": [
    {
     "name": "stdout",
     "output_type": "stream",
     "text": [
      "Searching data/asd/ and subdirectories for ASD files.\n",
      "Number of ASD files found: 2725\n",
      "Filenames saved in data/filenames_asd.csv\n"
     ]
    }
   ],
   "source": [
    "lm.search_for_ASD_files(source='data/asd/', destination='data/')"
   ]
  },
  {
   "cell_type": "code",
   "execution_count": 47,
   "metadata": {},
   "outputs": [
    {
     "name": "stdout",
     "output_type": "stream",
     "text": [
      "Adding UPWINS convention filenames and metadata to data/filenames_asd.csv\n",
      "Number of rows before dropping duplicates: 2725\n",
      "Writing to data/UPWINS_ASD_database.csv complete. There were 2699 unique files.\n",
      "Length of Data list: 2699\n",
      "Pinged your deployment. You successfully connected to MongoDB!\n",
      "Metadata doc count:  2699\n",
      "Data doc count:  2699\n",
      "Spectral Library created.\n"
     ]
    }
   ],
   "source": [
    "lm.build_UPWINS_ASD_database('data/')"
   ]
  }
 ],
 "metadata": {
  "kernelspec": {
   "display_name": "Python 3",
   "language": "python",
   "name": "python3"
  },
  "language_info": {
   "codemirror_mode": {
    "name": "ipython",
    "version": 3
   },
   "file_extension": ".py",
   "mimetype": "text/x-python",
   "name": "python",
   "nbconvert_exporter": "python",
   "pygments_lexer": "ipython3",
   "version": "3.undefined.undefined"
  }
 },
 "nbformat": 4,
 "nbformat_minor": 2
}
