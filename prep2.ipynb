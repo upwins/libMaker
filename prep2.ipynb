{
 "cells": [
  {
   "cell_type": "code",
   "execution_count": 1,
   "metadata": {},
   "outputs": [],
   "source": [
    "import os\n",
    "from dotenv import load_dotenv\n",
    "#import sys\n",
    "#import time\n",
    "#import struct\n",
    "#import glob\n",
    "#import importlib\n",
    "import pandas as pd\n",
    "import numpy as np\n",
    "import matplotlib.pyplot as plt\n",
    "import matplotlib\n",
    "\n",
    "from pymongo.mongo_client import MongoClient\n",
    "from pymongo.server_api import ServerApi\n",
    "\n",
    "MONGO_DBR_URI = os.getenv('MONGO_DBR_URI')\n",
    "\n",
    "#from collections import Counter\n",
    "\n",
    "#import libMaker as lm"
   ]
  },
  {
   "cell_type": "code",
   "execution_count": 2,
   "metadata": {},
   "outputs": [
    {
     "name": "stdout",
     "output_type": "stream",
     "text": [
      "Pinged your deployment. You successfully connected to MongoDB!\n"
     ]
    }
   ],
   "source": [
    "uri = MONGO_DBR_URI\n",
    "\n",
    "# Create a new client and connect to the server\n",
    "client = MongoClient(uri, server_api=ServerApi('1'))\n",
    "\n",
    "# Send a ping to confirm a successful connection\n",
    "try:\n",
    "    client.admin.command('ping')\n",
    "    print(\"Pinged your deployment. You successfully connected to MongoDB!\")\n",
    "except Exception as e:\n",
    "    print(e)\n",
    "\n",
    "db = client[\"upwins_db\"]\n",
    "view_name = \"spectral_library\"\n",
    "spectral_library = db[view_name]"
   ]
  },
  {
   "cell_type": "code",
   "execution_count": 3,
   "metadata": {},
   "outputs": [],
   "source": [
    "records = spectral_library.find()\n",
    "df = pd.DataFrame(records)"
   ]
  },
  {
   "cell_type": "code",
   "execution_count": 4,
   "metadata": {},
   "outputs": [],
   "source": [
    "names = df['ASD UPWINS base_fname'].to_numpy()\n",
    "wl = np.array(list(df['spectrum'][0].keys()), dtype=float)\n",
    "spectra = np.array([list(spectrum.values()) for spectrum in df['spectrum']])"
   ]
  },
  {
   "cell_type": "code",
   "execution_count": 5,
   "metadata": {},
   "outputs": [
    {
     "name": "stdout",
     "output_type": "stream",
     "text": [
      " \n",
      "...remove spectra collected using outdoor solar illumination...\n",
      " \n",
      "Number of names: 1020\n",
      "Number of spectra: 1020\n",
      "Number of bands: 2151\n"
     ]
    }
   ],
   "source": [
    "# remove spectra with large derivate, which are the spectra collected using sunlight\n",
    "derivitive = np.mean(np.abs(spectra[:,1:]-spectra[:,:-1]), axis=1)\n",
    "select_indices = np.where(derivitive<0.0025)[0]\n",
    "# create variables for the library data \n",
    "names = names[select_indices]\n",
    "spectra = spectra[select_indices,:]\n",
    "#wl = np.asarray(lib.bands.centers)\n",
    "# create variables for the library metadata \n",
    "nSpec = len(spectra)\n",
    "nBands = len(wl)\n",
    "nNames = len(names)\n",
    "\n",
    "print(' ')\n",
    "print('...remove spectra collected using outdoor solar illumination...')\n",
    "print(' ')\n",
    "print(f'Number of names: {nNames}')\n",
    "print(f'Number of spectra: {nSpec}')\n",
    "print(f'Number of bands: {nBands}')"
   ]
  },
  {
   "cell_type": "code",
   "execution_count": 133,
   "metadata": {},
   "outputs": [
    {
     "name": "stdout",
     "output_type": "stream",
     "text": [
      "1020\n",
      "Number of spectra: 1020\n",
      "Number of bands: 2151\n"
     ]
    }
   ],
   "source": [
    "# Extract the metadata as numpy arrays\n",
    "genus = []\n",
    "species = []\n",
    "principle_part = []\n",
    "health = []\n",
    "growth_stage = []\n",
    "DateTimeId = []\n",
    "month = []\n",
    "plant_type = []\n",
    "name = []\n",
    "name_full_category = []\n",
    "name_genus_species = []\n",
    "select_indices = []\n",
    "for i in range(len(df)):\n",
    "    \n",
    "    try:\n",
    "\n",
    "        row = df.loc[df['ASD UPWINS base_fname'] == names[i]]\n",
    "\n",
    "        # if the spectrum has a corresponding row in the csv\n",
    "        if (row['sub-category'].values[0] not in ['NA','backrounds']) & (row['category'].values[0] in ['vegetation','target_vegetation','soil','road']):\n",
    "            select_indices.append(i)\n",
    "            plant_type.append(row['sub-category'].values[0])\n",
    "            genus.append(row['genus'].values[0])\n",
    "            species.append(row['species'].values[0])\n",
    "            principle_part.append(row['principal_part'].values[0])\n",
    "            health.append(row['health'].values[0])\n",
    "            growth_stage.append(row['growth_stage'].values[0])\n",
    "            name_genus_species.append(row['genus'].values[0]+'_'+row['species'].values[0])\n",
    "            DateTimeId.append(row['DateTimeUniqueIdentifier'].values[0])\n",
    "            month.append(row['DateTimeUniqueIdentifier'].values[0][4:6])\n",
    "            if row['genus'].values[0]=='NA':\n",
    "                #not in our primary target vegetation library\n",
    "                name.append(row['sub-category'].values[0])\n",
    "                name_full_category.append(row['sub-category'].values[0]+'_'+row['principal_part'].values[0]+'_'+row['health'].values[0]+'_'+row['growth_stage'].values[0])\n",
    "            else:\n",
    "                name.append(row['genus'].values[0]+'_'+row['species'].values[0])\n",
    "                name_full_category.append(row['genus'].values[0]+'_'+row['species'].values[0]+'_'+row['principal_part'].values[0]+'_'+row['health'].values[0]+'_'+row['growth_stage'].values[0])\n",
    "    except:\n",
    "        continue\n",
    "\n",
    "print(len(select_indices))\n",
    "\n",
    "names = names[select_indices]\n",
    "spectra = spectra[select_indices,:]\n",
    "# create variables for the library metadata \n",
    "nSpec = len(names)\n",
    "nBands = len(wl)\n",
    "\n",
    "print(f'Number of spectra: {nSpec}')\n",
    "print(f'Number of bands: {nBands}')\n",
    "genus = np.asarray(genus)\n",
    "species = np.asarray(species)\n",
    "principle_part = np.asarray(principle_part)\n",
    "health = np.asarray(health)\n",
    "growth_stage = np.asarray(growth_stage)\n",
    "DateTimeId = np.asarray(DateTimeId)\n",
    "month = np.asarray(month)\n",
    "name = np.asarray(name)\n",
    "name_genus_species = np.asarray(name_genus_species)\n",
    "name_full_category = np.asarray(name_full_category)\n",
    "plant_type = np.asarray(plant_type)\n"
   ]
  },
  {
   "cell_type": "code",
   "execution_count": 20,
   "metadata": {},
   "outputs": [],
   "source": [
    "# save numpy variables for the spectra and metadata\n",
    "np.save('data/spectra', spectra)\n",
    "np.save('data/wl', wl)\n",
    "np.save('data/genus', genus)\n",
    "np.save('data/species', species)\n",
    "np.save('data/principle_part', principle_part)\n",
    "np.save('data/health', health)\n",
    "np.save('data/growth_stage', growth_stage)\n",
    "np.save('data/DateTimeId', DateTimeId)\n",
    "np.save('data/month', month)\n",
    "np.save('data/name', name) # the genus and species if known, otherwise the common name (or material name for soil, road, etc.)\n",
    "np.save('data/name_genus_species', name_genus_species) # the genus and species if known - otherwise NA\n",
    "np.save('data/name_full_category', name_full_category) # all the metadata available in one string\n",
    "np.save('data/plant_type', plant_type) # the type of plant (tree, shrub, grass, etc.) - otherwise NA"
   ]
  }
 ],
 "metadata": {
  "kernelspec": {
   "display_name": "Python 3",
   "language": "python",
   "name": "python3"
  },
  "language_info": {
   "codemirror_mode": {
    "name": "ipython",
    "version": 3
   },
   "file_extension": ".py",
   "mimetype": "text/x-python",
   "name": "python",
   "nbconvert_exporter": "python",
   "pygments_lexer": "ipython3",
   "version": "3.10.12"
  }
 },
 "nbformat": 4,
 "nbformat_minor": 2
}
